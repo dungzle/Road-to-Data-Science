{
 "cells": [
  {
   "cell_type": "code",
   "execution_count": null,
   "metadata": {},
   "outputs": [],
   "source": []
  },
  {
   "cell_type": "markdown",
   "metadata": {},
   "source": [
    "## Week 1\n",
    "\n",
    "\"Data! Data! Data! I can't make bricks without clay\" (brick = conclusion, clay = data) - Sherlock Holmes"
   ]
  },
  {
   "cell_type": "markdown",
   "metadata": {},
   "source": [
    "### 1. Glossary:\n",
    "- **Data**: A collection of facts including number, picture, videos, etc. (the world most valuable resource)\n",
    "- **Dataset**: A collection of data that can be manipulated or analyzed as one unit\n",
    "- **Data ecosystem**: The various elements that interact with one another in order to produce, manage, store, organize, analyze, and share data\n",
    "- **Data analyst**: Someone who collects, transforms, and organizes data in order to drive informed decision-making\n",
    "- **Data analysis**: The collection, transformation, and organization of data in order to draw conclusions, make predictions, and drive informed decision-making (Data analysis is about turning data into insights)\n",
    "- **Data analytics**: The science of data\n",
    "- **Data science**: A field of study that uses raw data to create new ways of modeling and understanding the unknown\n",
    "- **Data-driven decision-making**: Using facts to guide business strategy\n",
    "- **Subject matter expert**: is who are familiar with the business problem. They can look at the results of data analysis to identify any inconsistencies and evaluate choices being made\n",
    "\n"
   ]
  },
  {
   "cell_type": "markdown",
   "metadata": {},
   "source": [
    "### 2. Six phases of data analysis:\n",
    "- **Ask**: Business Challenge/Objective/Question\n",
    "- **Prepare**: Data generation, collection, storage, and data management\n",
    "- **Process**: Data cleaning, data integrity\n",
    "- **Analyze**: Data exploration, visualization, and analysis\n",
    "- **Share**: Communicating and interpreting the results\n",
    "- **Act**: Putting your insights to work to solve the problem"
   ]
  },
  {
   "cell_type": "markdown",
   "metadata": {},
   "source": [
    "There are 3 disciplines in data science:\n",
    "- Machine Learning (automate and make many decisions under uncertainty): performance is the excellent of Machine Learning\n",
    "- Statistics (make few important decision under uncertainty): careful about protecting the decision maker from coming to the wrong conclusion (hypothesis testing).\n",
    "- Analytics (understand the unknown): how fast can we explore vast amount of data and find gems?"
   ]
  },
  {
   "cell_type": "markdown",
   "metadata": {},
   "source": [
    "There are 4 key types of business analytics: \n",
    "- Descriptive analytics is the interpretation of historical data to identify trends and patterns\n",
    "- Predictive analytics centers on taking that information and using it to forecast future outcomes.\n",
    "- Diagnostic analytics can be used to identify the root cause of a problem.\n",
    "- Prescriptive analytics, testing and other techniques are employed to determine which outcome will yield the best result in a given scenario."
   ]
  },
  {
   "cell_type": "markdown",
   "metadata": {},
   "source": [
    "Some common questions when we start a project:\n",
    "- What kind of results are needed?\n",
    "- Who will be informed?\n",
    "- Am I answering the question being asked?\n",
    "- How quickly does a decision need to be made?"
   ]
  },
  {
   "cell_type": "markdown",
   "metadata": {},
   "source": [
    "## Week 2\n",
    "\n",
    "Think critically to find to find the right question to ask\n",
    "\n",
    "Think creatively to get new and unexpected answer"
   ]
  },
  {
   "cell_type": "markdown",
   "metadata": {},
   "source": [
    "### 1. Glossary:\n",
    "- **Analytical skills**: qualities and characteristics associated with solving problems using facts\n",
    "- **Context**: the condition in which something exists or happens (e.g.: flour, yeast, sugar, pork -> pork is out of baking context)\n",
    "- **A technical mindset**: the ability to break things down into smaller steps or pieces and work with them in an orderly and logical way\n",
    "- **Data design**: how you organize information\n",
    "- **Data strategy**: the management of the people, processes and tools used in data analysis\n",
    "- **Analytical thinking**: Identifying and defining a problem and then solving it by using data in an organized, step-by-step manner.\n",
    "- **Gap analysis**: a method for examining and evaluating how a process works currently in order to get where you want to be in the future"
   ]
  },
  {
   "cell_type": "markdown",
   "metadata": {},
   "source": [
    "### 2. 5 key data analytical skills:\n",
    "- **Curiosity**: a desire to know more about something, asking the right questions\n",
    "- **Understanding context**: understanding where information fits into the “big picture”\n",
    "- **Having a technical mindset**: breaking big things into smaller steps\n",
    "- **Data design**: thinking about how to organize data and information\n",
    "- **Data strategy**: thinking about the people, processes, and tools used in data analysis \n"
   ]
  },
  {
   "cell_type": "markdown",
   "metadata": {},
   "source": [
    "### 3. 5 key aspects to analytical thinking:\n",
    "- **Visualization**: the graphical presentation of information\n",
    "- **Strategy**: help analyst to know what they want to achieve with data and how to get there\n",
    "- **Problem-orientation**: \n",
    "- **Correlation**\n",
    "- **Big-picture and detail-oriented thinking**"
   ]
  },
  {
   "cell_type": "markdown",
   "metadata": {},
   "source": [
    "### Some common questions asked by Data Analyst to hunt for solutions:\n",
    "- What is root cause of problem (Five Whys process)?\n",
    "- Where are the gaps in our process (Gap analysis)?\n",
    "- What did we not consider before?\n"
   ]
  },
  {
   "cell_type": "code",
   "execution_count": null,
   "metadata": {},
   "outputs": [],
   "source": []
  }
 ],
 "metadata": {
  "kernelspec": {
   "display_name": "Python 3",
   "language": "python",
   "name": "python3"
  },
  "language_info": {
   "codemirror_mode": {
    "name": "ipython",
    "version": 3
   },
   "file_extension": ".py",
   "mimetype": "text/x-python",
   "name": "python",
   "nbconvert_exporter": "python",
   "pygments_lexer": "ipython3",
   "version": "3.7.3"
  }
 },
 "nbformat": 4,
 "nbformat_minor": 2
}
