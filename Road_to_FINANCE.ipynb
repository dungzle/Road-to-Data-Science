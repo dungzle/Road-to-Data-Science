{
 "cells": [
  {
   "cell_type": "markdown",
   "metadata": {},
   "source": [
    "## I/ Income statement\n",
    "\n",
    "Income statement will show how **profitable** a company has been during the time interval shown in the statement's heading\n",
    "\n",
    "Income statement does not report the cash coming in—rather, its purpose is to:\n",
    "- (1) report the revenues earned by the company's efforts during the period\n",
    "- (2) report the expenses incurred by the company during the same period. \n",
    "\n",
    "The reporting of profitability involves two things:\n",
    "- revenue = the amount that was earned\n",
    "- expense = the expense necessary to earn that revenue \n",
    "\n",
    "The difference (or \"net\") between the revenues and expenses for Direct Delivery is often referred to as the bottom line and it is labeled as either Net Income or Net Loss."
   ]
  },
  {
   "cell_type": "markdown",
   "metadata": {},
   "source": [
    "### 1) Revenue\n",
    "\n",
    "Recording revenues when they are earned is result of **revenue recognition principle**\n",
    "\n",
    "**Revenues are recorded when they are earned** (not when the company receives the money)\n",
    "\n",
    "For example, if Joe delivers 1,000 parcels in December for \\\\$4 per delivery, he has technically earned fees totalling \\\\$4,000 for that month. He sends invoices to his clients for these fees and his terms require that his clients must pay by January 10. \n",
    "- December: \\$4,000 is recorded as December revenues. And, Joe made an entry to Accounts Receivable and to Sales\n",
    "- January: \\$4,000 of receipts will be recorded as a reduction in Accounts Receivable"
   ]
  },
  {
   "cell_type": "markdown",
   "metadata": {},
   "source": [
    "### 2) Expense\n",
    "\n",
    "The December income statement should show expenses incurred during December regardless of when the company actually paid for the expenses\n",
    "\n",
    "For example, if Joe hires someone to help him with December deliveries and Joe agrees to pay him \\\\$500 on January 3, that $500 expense needs to be shown on the December income statement. The actual date that the \\\\$500 is paid out doesn't matter.\n",
    "\n",
    "The recording of expenses with the related revenues is known as the **matching principle**."
   ]
  },
  {
   "cell_type": "code",
   "execution_count": null,
   "metadata": {},
   "outputs": [],
   "source": []
  }
 ],
 "metadata": {
  "kernelspec": {
   "display_name": "Python 3",
   "language": "python",
   "name": "python3"
  },
  "language_info": {
   "codemirror_mode": {
    "name": "ipython",
    "version": 3
   },
   "file_extension": ".py",
   "mimetype": "text/x-python",
   "name": "python",
   "nbconvert_exporter": "python",
   "pygments_lexer": "ipython3",
   "version": "3.7.3"
  }
 },
 "nbformat": 4,
 "nbformat_minor": 2
}
