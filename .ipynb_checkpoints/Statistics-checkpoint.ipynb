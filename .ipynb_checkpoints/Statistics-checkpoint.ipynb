{
 "cells": [
  {
   "cell_type": "markdown",
   "metadata": {},
   "source": [
    "# Important Terms"
   ]
  },
  {
   "cell_type": "markdown",
   "metadata": {},
   "source": [
    "1. **Hypothesis testing** (statistics) = a way to test the results of a survey or experiment to see if we have meaningful results (5 steps):\n",
    "    - State your research hypothesis as a null ($H_0$) and alternate ($H_a$) hypothesis.\n",
    "    - Collect data in a way designed to test the hypothesis.\n",
    "    - Perform an appropriate statistical test.\n",
    "    - Decide whether to reject or fail to reject your null hypothesis.\n",
    "    - Present the findings in your results and discussion section.\n",
    "\n",
    "\n",
    "2. **Null and Alternative hypotheses**\n",
    "    - $H_0$ = always predicts no true effect, no relationship between variables, or no difference between groups.\n",
    "    - $H_a$ = states your main prediction of a true effect, a relationship between variables, or a difference between groups.\n",
    "    \n",
    "\n",
    "3. **Statistical power** (the power of a hypothesis test) = the probability that the test correctly rejects the null hypothesis.\n",
    "    - The higher the statistical power for a given experiment, the lower the probability of making a Type II (false negative) error. \n",
    "    - The power is precisely the inverse of the probability of a Type II error.\n",
    "        \n",
    "\n",
    "4. **Type I/II Error**:\n",
    "    - Type I Error (false positive) = significance level = $\\alpha$ = rejecting the null hypothesis when it's actually true\n",
    "    - Type II Error (false negative) = $\\beta$ = failing to reject the null hypothesis when it's actually false\n",
    "          e.g.: You decide to get tested for COVID-19 based on mild symptoms. \n",
    "                Null hypothesis = You don't have COVID:\n",
    "                - Type I error (false positive): the test result says you have COVID, but you actually don’t.\n",
    "                - Type II error (false negative): the test result says you don’t have COVID, but you actually do.\n",
    "<img src=\"type-i-and-ii-error.png\">"
   ]
  },
  {
   "cell_type": "markdown",
   "metadata": {},
   "source": [
    "- **Population** = The entire group that you are interested in for your study. For example, if you are surveying people in your company, the population would be all the employees in your company.\n",
    "- **Sample** = a part of a population that is representative of the population\n",
    "- **Margin of error** = The maximum amount that the sample results are expected to differ from those of the actual population. More technically, the margin of error defines a range of values below and above the average result for the sample. The average result for the entire population is expected to be within that range.\n",
    "- **Confidence level** = the probability that your sample size accurately reflects the greater population. (How confident you are in the survey results. For example, a 95% confidence level means that if you were to run the same survey 100 times, you would get similar results 95 of those 100 times.)\n",
    "- **Confidence interval** = The range of possible values that the population’s result would be at the confidence level of the study. This range is the sample result +/- the margin of error.\n",
    "- **Statistical significance** = The determination of whether your result could be due to random chance or not. The greater the significance, the less due to chance.\n",
    "- **Mean** = Average value\n",
    "- **Median** = Middle value (in sorted order)\n",
    "- **Standard Deviation** = Average distance between data points and mean (calculate how much variation exist between our data points in the pool)\n",
    "- **Empirical Rule** = Most of the data points in a given data set fall within three standard deviations of the mean (for Normal Distribution: 68% data within $\\pm$1 sd, 95% data within $\\pm$2 sd, 99.7% data within $\\pm$3 sd)\n",
    "- **z-score** = 1.55 -> the data point is 1.55 sd from the mean\n",
    "- **percentile** = "
   ]
  },
  {
   "cell_type": "markdown",
   "metadata": {},
   "source": [
    "# I/ Permutation vs Combinations"
   ]
  },
  {
   "cell_type": "code",
   "execution_count": null,
   "metadata": {},
   "outputs": [],
   "source": []
  }
 ],
 "metadata": {
  "kernelspec": {
   "display_name": "Python 3",
   "language": "python",
   "name": "python3"
  },
  "language_info": {
   "codemirror_mode": {
    "name": "ipython",
    "version": 3
   },
   "file_extension": ".py",
   "mimetype": "text/x-python",
   "name": "python",
   "nbconvert_exporter": "python",
   "pygments_lexer": "ipython3",
   "version": "3.7.3"
  }
 },
 "nbformat": 4,
 "nbformat_minor": 2
}
