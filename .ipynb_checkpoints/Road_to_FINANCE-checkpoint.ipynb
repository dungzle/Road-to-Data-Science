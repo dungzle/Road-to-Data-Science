{
 "cells": [
  {
   "cell_type": "markdown",
   "metadata": {},
   "source": [
    "## I/ Income statement\n",
    "\n",
    "Income statement will show how **profitable** a company has been during the time interval shown in the statement's heading\n",
    "\n",
    "Income statement does not report the cash coming in—rather, its purpose is to:\n",
    "- (1) report the revenues earned by the company's efforts during the period\n",
    "- (2) report the expenses incurred by the company during the same period. \n",
    "\n",
    "The reporting of profitability involves two things:\n",
    "- revenue = the amount that was earned\n",
    "- expense = the expense necessary to earn that revenue \n",
    "\n",
    "The difference (or \"net\") between the revenues and expenses for Direct Delivery is often referred to as the bottom line and it is labeled as either Net Income or Net Loss."
   ]
  },
  {
   "cell_type": "markdown",
   "metadata": {},
   "source": [
    "### 1) Revenue\n",
    "\n",
    "Recording revenues when they are earned is result of **revenue recognition principle**\n",
    "\n",
    "**Revenues are recorded when they are earned** (not when the company receives the money)\n",
    "\n",
    "For example, if Joe delivers 1,000 parcels in December for \\\\$4 per delivery, he has technically earned fees totalling \\\\$4,000 for that month. He sends invoices to his clients for these fees and his terms require that his clients must pay by January 10. \n",
    "- December: \\$4,000 is recorded as December revenues. And, Joe made an entry to Accounts Receivable and to Sales\n",
    "- January: \\$4,000 of receipts will be recorded as a reduction in Accounts Receivable"
   ]
  },
  {
   "cell_type": "markdown",
   "metadata": {},
   "source": [
    "### 2) Expense\n",
    "\n",
    "The December income statement should show expenses incurred during December regardless of when the company actually paid for the expenses\n",
    "\n",
    "For example, if Joe hires someone to help him with December deliveries and Joe agrees to pay him \\\\$500 on January 3, that $500 expense needs to be shown on the December income statement. The actual date that the \\\\$500 is paid out doesn't matter.\n",
    "\n",
    "**Matching principle** = the recording of expenses with the related revenues."
   ]
  },
  {
   "cell_type": "markdown",
   "metadata": {},
   "source": [
    "## II/ Balance Sheet:\n",
    "\n",
    "Balance sheet is a financial statement that reports the amount of a company's assets, liabilities, and stockholders' (or owner's) equity at a specific point in time *(not a period of time)*.\n",
    "\n",
    "Balance sheet can be considered as a snapshot of a company financial position at a given moment."
   ]
  },
  {
   "cell_type": "markdown",
   "metadata": {},
   "source": [
    "### 1) Assets:\n",
    "\n",
    "Assets are things that company owns and are sometimes referred to as the resources of the company (e.g.: Vehicles, Cash, Supplies, Equipment, etc.)"
   ]
  },
  {
   "cell_type": "markdown",
   "metadata": {},
   "source": [
    "#### a) Prepaids:\n",
    "Prepaids is a less obvious asset - the unexpired portion of prepaid expenses. \n",
    "\n",
    "For example: Direct Delivery pays \\\\$1,200 on December 1 for a six-month insurance premium on its delivery vehicle. That divides out to be \\\\$200 per month (\\\\$1,200 ÷ 6 months). \n",
    "- Between December 1 and December 31, \\\\$200 worth of insurance premium is \"used up\" or \"expires\". The expired amount will be reported as Insurance Expense on December's income statement. \n",
    "- The remaining \\\\$1,000 of unexpired insurance premium would be reported. On the December 31 balance sheet, Marilyn tells him, in an asset account called Prepaid Insurance."
   ]
  },
  {
   "cell_type": "markdown",
   "metadata": {},
   "source": [
    "#### b) Cost principle and Conservatism:\n",
    "**Cost principle** = each of a company's assets was recorded at its original cost, and even if the fair market value of an item increases, an accountant will not increase the recorded amount of that asset on the balance sheet.\n",
    "\n",
    "**Conservatism** = Although accountants generally do not increase the value of an asset, they might decrease its value as a result of conservatism."
   ]
  },
  {
   "cell_type": "markdown",
   "metadata": {},
   "source": [
    "The cost principle generally prevents assets from being reported at more than cost, while conservatism might require assets to be reported at less than their cost.\n",
    "\n",
    "If the net realizable value of his inventory is less than the original recorded cost, the principle of conservatism directs the accountant to report the lower amount as the asset's value on the balance sheet."
   ]
  },
  {
   "cell_type": "markdown",
   "metadata": {},
   "source": [
    "#### c) Depreciation:\n",
    "\n",
    "**Depreciation** = the reported amounts on the balance sheet for assets such as equipment, vehicles, and buildings are routinely reduced.\n",
    "\n",
    "Depreciation is required by the basic accounting principle known as the matching principle. \n",
    "\n",
    "Depreciation is used for assets whose life is not indefinite—equipment wears out, vehicles become too old and costly to maintain, buildings age, and some assets (like computers) become obsolete. \n",
    "\n",
    "Depreciation is the allocation of the cost of the asset to Depreciation Expense on the income statement over its useful life."
   ]
  },
  {
   "cell_type": "markdown",
   "metadata": {},
   "source": [
    "For example:\n",
    "\n",
    "Assume that Direct Delivery's van has a useful life of five years and was purchased at a cost of \\\\$20,000. The accountant might match \\\\$4,000 (\\\\$20,000 ÷ 5 years) of Depreciation Expense with each year's revenues for five years. Each year the carrying amount of the van will be reduced by \\\\$4,000. (The carrying amount—or \"book value\"—is reported on the balance sheet and it is the cost of the van minus the total depreciation since the van was acquired.) This means that after one year the balance sheet will report the carrying amount of the delivery van as \\\\$16,000, after two years the carrying amount will be \\\\$12,000, etc. After five years—the end of the van's expected useful life—its carrying amount is zero."
   ]
  },
  {
   "cell_type": "markdown",
   "metadata": {},
   "source": [
    "In Balance sheet, Long-term assets (such as buildings, equipment, and furnishings) are not reported at their worth (fair market value). Instead, they are reported at their cost minus the amounts already sent to the income statement as Depreciation Expense."
   ]
  },
  {
   "cell_type": "markdown",
   "metadata": {},
   "source": [
    "### 2) Liabilities:\n",
    "\n",
    "Liabilities are obligations of the company; they are amounts owed to others as of the balance sheet date. (e.g.: loan, interest on loan, the wages he owes an employee, etc.)\n",
    "\n",
    "Another liability is money received in advance of actually earning the money. \n",
    "\n",
    "For example: \n",
    "\n",
    "Direct Delivery has agreement with a customers that the customer prepays \\\\$600 in return for the delivery of 30 parcels from December 1 and May 31. Direct Delivery has a cash receipt of \\\\$600 on December 1, but it does not have revenues of \\\\$600 at this point. It will have revenues only when it earns them by delivering the parcels. On December 1, Direct Delivery will show that its asset Cash increased by \\\\$600, but it will also have to show that it has a liability of \\\\$600. \n",
    "\n",
    "The liability account involved in the \\\\$600 received on December 1 is Unearned Revenue (or Deferred Revenues, Customer Deposits, etc.). Each month, as the 30 parcels are delivered, Direct Delivery will be earning \\\\$100, and as a result, each month \\\\$100 moves from the account Unearned Revenue to Service Revenues. Each month Direct Delivery's liability decreases by \\\\$100 as it fulfills the agreement by delivering parcels and each month its revenues on the income statement increase by \\\\$100."
   ]
  },
  {
   "cell_type": "markdown",
   "metadata": {},
   "source": [
    "### 3) Stockholder's Equity\n",
    "\n",
    "If the company is a corporation, the third section of a corporation's balance sheet is Stockholders' Equity. (If the company is a sole proprietorship, it is referred to as Owner's Equity.)\n",
    "\n",
    "The amount of Stockholders' Equity is exactly the difference between the asset amounts and the liability amounts.\n",
    "\n",
    "Stockholders' Equity is also the \"book value\" of the corporation."
   ]
  },
  {
   "cell_type": "markdown",
   "metadata": {},
   "source": [
    "The account Common Stock will be increased when the corporation issues shares of stock in exchange for cash (or some other asset). \n",
    "\n",
    "Another account Retained Earnings will increase when the corporation earns a profit. There will be a decrease when the corporation has a net loss. This means that revenues will automatically cause an increase in Stockholders' Equity and expenses will automatically cause a decrease in Stockholders' Equity. This illustrates a link between a company's balance sheet and income statement."
   ]
  },
  {
   "cell_type": "markdown",
   "metadata": {},
   "source": [
    "## III/ Statement of Cash Flows:"
   ]
  },
  {
   "cell_type": "code",
   "execution_count": null,
   "metadata": {},
   "outputs": [],
   "source": []
  },
  {
   "cell_type": "code",
   "execution_count": null,
   "metadata": {},
   "outputs": [],
   "source": []
  },
  {
   "cell_type": "code",
   "execution_count": null,
   "metadata": {},
   "outputs": [],
   "source": []
  },
  {
   "cell_type": "code",
   "execution_count": null,
   "metadata": {},
   "outputs": [],
   "source": []
  },
  {
   "cell_type": "code",
   "execution_count": null,
   "metadata": {},
   "outputs": [],
   "source": []
  },
  {
   "cell_type": "markdown",
   "metadata": {},
   "source": [
    "# Reference:\n",
    "\n",
    "https://www.accountingcoach.com/accounting-basics/"
   ]
  },
  {
   "cell_type": "code",
   "execution_count": null,
   "metadata": {},
   "outputs": [],
   "source": []
  }
 ],
 "metadata": {
  "kernelspec": {
   "display_name": "Python 3",
   "language": "python",
   "name": "python3"
  },
  "language_info": {
   "codemirror_mode": {
    "name": "ipython",
    "version": 3
   },
   "file_extension": ".py",
   "mimetype": "text/x-python",
   "name": "python",
   "nbconvert_exporter": "python",
   "pygments_lexer": "ipython3",
   "version": "3.7.3"
  }
 },
 "nbformat": 4,
 "nbformat_minor": 2
}
