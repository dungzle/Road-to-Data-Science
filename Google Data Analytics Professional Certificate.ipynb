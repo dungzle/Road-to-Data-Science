{
 "cells": [
  {
   "cell_type": "markdown",
   "metadata": {},
   "source": [
    "# Foundations: Data, Data, Everywhere"
   ]
  },
  {
   "cell_type": "markdown",
   "metadata": {},
   "source": [
    "## Week 1 - Introducing data analytics\n",
    "\n",
    "\"Data! Data! Data! I can't make bricks without clay\" (brick = conclusion, clay = data) - Sherlock Holmes"
   ]
  },
  {
   "cell_type": "markdown",
   "metadata": {},
   "source": [
    "### 1. Glossary:\n",
    "- **Data**: A collection of facts including number, picture, videos, etc. (the world most valuable resource)\n",
    "- **Dataset**: A collection of data that can be manipulated or analyzed as one unit\n",
    "- **Data ecosystem**: The various elements that interact with one another in order to produce, manage, store, organize, analyze, and share data\n",
    "- **Data analyst**: Someone who collects, transforms, and organizes data in order to drive informed decision-making\n",
    "- **Data analysis**: The collection, transformation, and organization of data in order to draw conclusions, make predictions, and drive informed decision-making (Data analysis is about turning data into insights)\n",
    "- **Data analytics**: The science of data\n",
    "- **Data science**: A field of study that uses raw data to create new ways of modeling and understanding the unknown\n",
    "- **Data-driven decision-making**: Using facts to guide business strategy\n",
    "- **Subject matter expert**: is who are familiar with the business problem. They can look at the results of data analysis to identify any inconsistencies and evaluate choices being made\n",
    "\n"
   ]
  },
  {
   "cell_type": "markdown",
   "metadata": {},
   "source": [
    "### 2. Six phases of data analysis process:\n",
    "- **Ask**: Business Challenge/Objective/Question\n",
    "- **Prepare**: Data generation, collection, storage, and data management\n",
    "- **Process**: Data cleaning, data integrity\n",
    "- **Analyze**: Data exploration, visualization, and analysis\n",
    "- **Share**: Communicating and interpreting the results\n",
    "- **Act**: Putting your insights to work to solve the problem"
   ]
  },
  {
   "cell_type": "markdown",
   "metadata": {},
   "source": [
    "### 3. Three disciplines in data science:\n",
    "- **Machine Learning** (automate and make many decisions under uncertainty): performance is the excellent of Machine Learning\n",
    "- **Statistics** (make few important decision under uncertainty): careful about protecting the decision maker from coming to the wrong conclusion (hypothesis testing).\n",
    "- **Analytics** (understand the unknown): how fast can we explore vast amount of data and find gems?"
   ]
  },
  {
   "cell_type": "markdown",
   "metadata": {},
   "source": [
    "### 4. Four key types of business analytics: \n",
    "- **Descriptive** analytics is the interpretation of historical data to identify trends and patterns\n",
    "- **Predictive** analytics centers on taking that information and using it to forecast future outcomes.\n",
    "- **Diagnostic** analytics can be used to identify the root cause of a problem.\n",
    "- **Prescriptive** analytics, testing and other techniques are employed to determine which outcome will yield the best result in a given scenario."
   ]
  },
  {
   "cell_type": "markdown",
   "metadata": {},
   "source": [
    "### 5. Some common questions when we start a project:\n",
    "- What kind of results are needed?\n",
    "- Who will be informed?\n",
    "- Am I answering the question being asked?\n",
    "- How quickly does a decision need to be made?"
   ]
  },
  {
   "cell_type": "markdown",
   "metadata": {},
   "source": [
    "## Week 2 - All about analytical thinking\n",
    "\n",
    "Think critically to find to find the right question to ask\n",
    "\n",
    "Think creatively to get new and unexpected answer"
   ]
  },
  {
   "cell_type": "markdown",
   "metadata": {},
   "source": [
    "### 1. Glossary:\n",
    "- **Analytical skills**: qualities and characteristics associated with solving problems using facts\n",
    "- **Context**: the condition in which something exists or happens (e.g.: flour, yeast, sugar, pork -> pork is out of baking context)\n",
    "- **A technical mindset**: the ability to break things down into smaller steps or pieces and work with them in an orderly and logical way\n",
    "- **Data design**: how you organize information\n",
    "- **Data strategy**: the management of the people, processes and tools used in data analysis\n",
    "- **Analytical thinking**: Identifying and defining a problem and then solving it by using data in an organized, step-by-step manner.\n",
    "- **Gap analysis**: a method for examining and evaluating how a process works currently in order to get where you want to be in the future"
   ]
  },
  {
   "cell_type": "markdown",
   "metadata": {},
   "source": [
    "### 2. Five key data analytical skills:\n",
    "- **Curiosity**: a desire to know more about something, asking the right questions\n",
    "- **Understanding context**: understanding where information fits into the “big picture”\n",
    "- **Having a technical mindset**: breaking big things into smaller steps\n",
    "- **Data design**: thinking about how to organize data and information\n",
    "- **Data strategy**: thinking about the people, processes, and tools used in data analysis \n"
   ]
  },
  {
   "cell_type": "markdown",
   "metadata": {},
   "source": [
    "### 3. Five key aspects to analytical thinking:\n",
    "- **Visualization**: the graphical presentation of information\n",
    "- **Strategy**: help analyst to know what they want to achieve with data and how to get there\n",
    "- **Problem-orientation**: \n",
    "- **Correlation**\n",
    "- **Big-picture and detail-oriented thinking**"
   ]
  },
  {
   "cell_type": "markdown",
   "metadata": {},
   "source": [
    "### 4. Some common questions asked by Data Analyst to hunt for solutions:\n",
    "- What is root cause of problem (Five Whys process)?\n",
    "- Where are the gaps in our process (Gap analysis)?\n",
    "- What did we not consider before?\n"
   ]
  },
  {
   "cell_type": "markdown",
   "metadata": {},
   "source": [
    "## Week 3 - The wonderful world of data\n",
    "\n",
    "The Data life cycle deals with the stages that data goes through during its useful life\n",
    "\n",
    "The Data analysis process is the process of analyzing data\n"
   ]
  },
  {
   "cell_type": "markdown",
   "metadata": {},
   "source": [
    "### 1. Glossary\n",
    "- **Stakeholder** = people who have invested time and resources into a project and are interested in the outcome\n",
    "- **Database** = collection of data stored in a computer system\n",
    "- **Formula** = A set of instructions used to perform a calculation using the data in a spreadsheet\n",
    "- **Function** = A preset command that automatically performs a specified process or task using the data in a spreadsheet\n",
    "- **Query language** = A computer programming language used to communicate with a database\n",
    "- **Query** = a request for data or information from a database\n",
    "- **Syntax** =  the predetermined structure of a language that includes all required words, symbols, and punctuation, as well as their proper placement\n"
   ]
  },
  {
   "cell_type": "markdown",
   "metadata": {},
   "source": [
    "### 2. Six stages of data life cycle:\n",
    "- **Plan** = Decide what kind of data is needed, how it will be managed, and who will be responsible for it.\n",
    "- **Capture** = Collect or bring in data from a variety of different sources.\n",
    "- **Manage** = Care for and maintain the data. This includes determining how and where it is stored and the tools used to do so.\n",
    "- **Analyze** = Use the data to solve problems, make decisions, and support business goals.\n",
    "- **Archive** = Keep relevant data stored for long-term and future reference.\n",
    "- **Destroy** = Remove data from storage and delete any shared copies of the data."
   ]
  },
  {
   "cell_type": "markdown",
   "metadata": {},
   "source": [
    " ### 3. Six phases of data analysis process:"
   ]
  },
  {
   "cell_type": "markdown",
   "metadata": {},
   "source": [
    "#### a) **Ask**: Business Challenge/Objective/Question\n",
    "In this phase, we do two  things: \n",
    "- Define the problem to be solved: we look at the current state and identify how it's different from the ideal state. Usually, there are obstacles we need to get rid of or something wrong that needs to be fixed\n",
    "- Fully understand the stakeholders expectation: We need to determine who the stakeholders are, which may include your manager, executive sponsor, or sale partner, etc. Communicating with your stakeholders is key in making sure you stay engaged and on track throughout the project. "
   ]
  },
  {
   "cell_type": "markdown",
   "metadata": {},
   "source": [
    "#### b) **Prepare**: Data generation, collection, storage, and data management\n",
    "This is where data analyst collect and store data to prepare for the upcoming analysis process. We need to identify which kind of data is the most useful for solving our problem"
   ]
  },
  {
   "cell_type": "markdown",
   "metadata": {},
   "source": [
    "#### c) **Process**: Data cleaning, data integrity\n",
    "Here, data analysts find and eliminate any errors or inaccuracies that can get in the way of results. It means cleaning data, transforming it into a more useful format, combining two or more datasets to make information more complete and removing outliers."
   ]
  },
  {
   "cell_type": "markdown",
   "metadata": {},
   "source": [
    "#### d) **Analyze**: Data exploration, visualization, and analysis\n",
    "Analyzing the data you collect involves using tools to transform and organize that information so that you can draw useful conclusion, make predictions, and drive informed decision-making."
   ]
  },
  {
   "cell_type": "markdown",
   "metadata": {},
   "source": [
    "#### e) **Share**: Communicating and interpreting the results\n",
    "Here, data analysts interpret results and share them with others to help stakeholders make effective data-driven decision. Visualization is essential in getting others to understand what your data is telling you."
   ]
  },
  {
   "cell_type": "markdown",
   "metadata": {},
   "source": [
    "#### f) **Act**: Putting your insights to work to solve the problem\n",
    "This is when the business takes all of the insight that you have provided and puts them to work in order to solve the original business problem."
   ]
  },
  {
   "cell_type": "markdown",
   "metadata": {},
   "source": [
    "<img src=\"da_processes.png\">"
   ]
  },
  {
   "cell_type": "markdown",
   "metadata": {},
   "source": [
    "### 4. Most common tools using by data analysts\n",
    "- Spreadsheet: Microsoft Excel, Google Sheet\n",
    "- Query language for database: MySQL, Microsoft SQL Server, and BigQuery\n",
    "- Visualization tools: Tableau, Looker"
   ]
  },
  {
   "cell_type": "markdown",
   "metadata": {},
   "source": [
    "## Week 4: The ins and outs of core data tools"
   ]
  },
  {
   "cell_type": "markdown",
   "metadata": {},
   "source": [
    "Fairness = your analysis doesn't create or reinforce bias.\n",
    "Data analyst must make sure that their analyses are fair. We want to create systems which are fair and inclusive to everyone.\n",
    "\n",
    "Data analysts need to have responsibility for the data to be protected and private."
   ]
  },
  {
   "cell_type": "markdown",
   "metadata": {},
   "source": [
    "Issue = a topic or subject to investigate\n",
    "\n",
    "Question = designed to discover information\n",
    "\n",
    "Problem = an obstacle or complication that needs to be worked out.\n",
    "\n",
    "Business task = the question or problem data analysis answers for a business"
   ]
  },
  {
   "cell_type": "markdown",
   "metadata": {},
   "source": [
    "# Ask Questions to Make Data-Driven Decisions"
   ]
  },
  {
   "cell_type": "markdown",
   "metadata": {},
   "source": [
    "## 1. Glossary\n",
    "- **Structured thinking** = The process of recognizing the current problem or situation, organizing available information, revealing gaps and opportunities, and identifying the options"
   ]
  },
  {
   "cell_type": "markdown",
   "metadata": {},
   "source": [
    "# From issue to action: The six data analysis phases\n",
    "\n",
    "There are six data analysis phases that will help you make seamless decisions: Ask, Prepare, Process, Analyze, Share, and Act. "
   ]
  },
  {
   "cell_type": "markdown",
   "metadata": {},
   "source": [
    "## Step 1: Ask"
   ]
  },
  {
   "cell_type": "markdown",
   "metadata": {},
   "source": [
    "It’s impossible to solve a problem if you don’t know what it is. These are some things to consider:\n",
    "- Define the problem you’re trying to solve \n",
    "- Make sure you fully understand the stakeholder’s expectations\n",
    "- Focus on the actual problem and avoid any distractions\n",
    "- Collaborate with stakeholders and keep an open line of communication\n",
    "- Take a step back and see the whole situation in context"
   ]
  },
  {
   "cell_type": "markdown",
   "metadata": {},
   "source": [
    "Questions to ask yourself in this step: \n",
    "- What are my stakeholders saying their problems are?\n",
    "- Now that I’ve identified the issues, how can I help the stakeholders resolve their questions?"
   ]
  },
  {
   "cell_type": "markdown",
   "metadata": {},
   "source": [
    "## Step 2: Prepare "
   ]
  },
  {
   "cell_type": "markdown",
   "metadata": {},
   "source": [
    "You will decide what data you need to collect in order to answer your questions and how to organize it so that it is useful. You might use your business task to decide: \n",
    "- What metrics to measure\n",
    "- Locate data in your database\n",
    "- Create security measures to protect that data"
   ]
  },
  {
   "cell_type": "markdown",
   "metadata": {},
   "source": [
    "Questions to ask yourself in this step: \n",
    "- What do I need to figure out how to solve this problem?\n",
    "- What research do I need to do?"
   ]
  },
  {
   "cell_type": "markdown",
   "metadata": {},
   "source": [
    "## Step 3: Process"
   ]
  },
  {
   "cell_type": "markdown",
   "metadata": {},
   "source": [
    "Clean data is the best data and you will need to clean up your data to get rid of any possible errors, inaccuracies, or inconsistencies. This might mean:\n",
    "- Using spreadsheet functions to find incorrectly entered data \n",
    "- Using SQL functions to check for extra spaces\n",
    "- Removing repeated entries\n",
    "- Checking as much as possible for bias in the data"
   ]
  },
  {
   "cell_type": "markdown",
   "metadata": {},
   "source": [
    "Questions to ask yourself in this step: \n",
    "- What data errors or inaccuracies might get in my way of getting the best possible answer to the problem I am trying to solve?\n",
    "- How can I clean my data so the information I have is more consistent?"
   ]
  },
  {
   "cell_type": "markdown",
   "metadata": {},
   "source": [
    "## Step 4: Analyze"
   ]
  },
  {
   "cell_type": "markdown",
   "metadata": {},
   "source": [
    "You will want to think analytically about your data. At this stage, you might sort and format your data to make it easier to: \n",
    "- Perform calculations\n",
    "- Combine data from multiple sources\n",
    "- Create tables with your results"
   ]
  },
  {
   "cell_type": "markdown",
   "metadata": {},
   "source": [
    "Questions to ask yourself in this step:\n",
    "- What story is my data telling me?\n",
    "- How will my data help me solve this problem?\n",
    "- Who needs my company’s product or service? What type of person is most likely to use it?"
   ]
  },
  {
   "cell_type": "markdown",
   "metadata": {},
   "source": [
    "## Step 5: Share"
   ]
  },
  {
   "cell_type": "markdown",
   "metadata": {},
   "source": [
    "Everyone shares their results differently so be sure to summarize your results with clear and enticing visuals of your analysis using data viz tools like graphs or dashboards. This is your chance to show the stakeholders you have solved their problem and how you got there. Sharing will certainly help your team:  \n",
    "- Make better decisions\n",
    "- Make more informed decisions\n",
    "- Lead to stronger outcomes\n",
    "- Successfully communicate your findings"
   ]
  },
  {
   "cell_type": "markdown",
   "metadata": {},
   "source": [
    "Questions to ask yourself in this step:\n",
    "- How can I make what I present to the stakeholders engaging and easy to understand?\n",
    "- What would help me understand this if I were the listener?"
   ]
  },
  {
   "cell_type": "markdown",
   "metadata": {},
   "source": [
    "## Step 6: Act\n",
    "\n",
    "Now it’s time to act on your data. You will take everything you have learned from your data analysis and put it to use. This could mean providing your stakeholders with recommendations based on your findings so they can make data-driven decisions."
   ]
  },
  {
   "cell_type": "markdown",
   "metadata": {},
   "source": [
    "Questions to ask yourself in this step:\n",
    "- How can I use the feedback I received during the share phase (step 5) to actually meet the stakeholder’s needs and expectations?"
   ]
  },
  {
   "cell_type": "markdown",
   "metadata": {},
   "source": [
    "These six steps can help you to break the data analysis process into smaller, manageable parts, which is called structured thinking. This process involves four basic activities:\n",
    "1. Recognizing the current problem or situation\n",
    "2. Organizing available information \n",
    "3. Revealing gaps and opportunities\n",
    "4. Identifying your options\n",
    "\n",
    "When you are starting out in your career as a data analyst, it is normal to feel pulled in a few different directions with your role and expectations. Following processes like the ones outlined here and using structured thinking skills can help get you back on track, fill in any gaps and let you know exactly what you need.\n",
    "\n"
   ]
  },
  {
   "cell_type": "markdown",
   "metadata": {},
   "source": [
    "## Six common types of problems\n",
    "1. **Making Predictions**: Using data to make an informed decision about how things may be in the future\n",
    "\n",
    "A company that wants to know the best advertising method to bring in new customers is an example of a problem requiring analysts to make predictions. Analysts with data on location, type of media, and number of new customers acquired as a result of past ads can't guarantee future results, but they can help predict the best placement of advertising to reach the target audience.\n",
    "\n",
    "2. **Categorizing things**: Assigning information to different groups or clusters based on common features\n",
    "\n",
    "An example of a problem requiring analysts to categorize things is a company's goal to improve customer satisfaction. Analysts might classify customer service calls based on certain keywords or scores. This could help identify top-performing customer service representatives or help correlate certain actions taken with higher customer satisfaction scores.\n",
    "\n",
    "3. **Spotting something unusual**: Identifying data that is different from the norm\n",
    "\n",
    "A company that sells smart watches that help people monitor their health would be interested in designing their software to spot something unusual. Analysts who have analyzed aggregated health data can help product developers determine the right algorithms to spot and set off alarms when certain data doesn't trend normally.\n",
    "\n",
    "4. **Identifying themes**: Grouping categorized information into broader concepts\n",
    "\n",
    "User experience (UX) designers might rely on analysts to analyze user interaction data. Similar to problems that require analysts to categorize things, usability improvement projects might require analysts to identify themes to help prioritize the right product features for improvement. Themes are most often used to help researchers explore certain aspects of data. In a user study, user beliefs, practices, and needs are examples of themes. \n",
    "\n",
    "What is differences between categorizing things and identifying themes? The best way to think about it is: categorizing things involves assigning items to categories; identifying themes takes those categories a step further by grouping them into broader themes.\n",
    "\n",
    "5. **Discovering connections**: Finding similar challenges faced by different entities and combining data and insights to address them\n",
    "\n",
    "A third-party logistics company working with another company to get shipments delivered to customers on time is a problem requiring analysts to discover connections. By analyzing the wait times at shipping hubs, analysts can determine the appropriate schedule changes to increase the number of on-time deliveries. \n",
    "\n",
    "6. **Finding patterns**: Using historical data to understand what happened in the past and is therefore likely to happen again\n",
    "\n",
    "Minimizing downtime caused by machine failure is an example of a problem requiring analysts to find patterns in data. For example, by analyzing maintenance data, they might discover that most failures happen if regular maintenance is delayed by more than a 15-day window. "
   ]
  },
  {
   "cell_type": "code",
   "execution_count": null,
   "metadata": {},
   "outputs": [],
   "source": []
  }
 ],
 "metadata": {
  "kernelspec": {
   "display_name": "Python 3",
   "language": "python",
   "name": "python3"
  },
  "language_info": {
   "codemirror_mode": {
    "name": "ipython",
    "version": 3
   },
   "file_extension": ".py",
   "mimetype": "text/x-python",
   "name": "python",
   "nbconvert_exporter": "python",
   "pygments_lexer": "ipython3",
   "version": "3.7.3"
  }
 },
 "nbformat": 4,
 "nbformat_minor": 2
}
